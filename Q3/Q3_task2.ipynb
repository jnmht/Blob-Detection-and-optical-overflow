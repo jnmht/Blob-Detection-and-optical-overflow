{
 "cells": [
  {
   "cell_type": "code",
   "execution_count": null,
   "metadata": {},
   "outputs": [],
   "source": [
    "import numpy as np\n",
    "import os\n",
    "import time\n",
    "import matplotlib.image as mpimg\n",
    "import matplotlib.pyplot as plt\n",
    "from skimage import io, color, transform\n",
    "import scipy\n",
    "from scipy.ndimage.filters import convolve\n",
    "from scipy.ndimage.filters import gaussian_laplace, generic_filter, gaussian_filter\n",
    "from numpy.random import rand, randint\n",
    "from matplotlib.patches import Circle"
   ]
  },
  {
   "cell_type": "code",
   "execution_count": null,
   "metadata": {},
   "outputs": [],
   "source": [
    "def rgb2gray(rgb):\n",
    "    r, g, b = rgb[:,:,0], rgb[:,:,1], rgb[:,:,2]\n",
    "    gray = 0.2989 * r + 0.5870 * g + 0.1140 * b\n",
    "    return gray"
   ]
  },
  {
   "cell_type": "code",
   "execution_count": null,
   "metadata": {},
   "outputs": [],
   "source": [
    "Scale = 2\n",
    "k = 1.3\n",
    "Level = 13\n",
    "def show_all_circles(image, cx, cy, rad, color='r'):\n",
    "    \"\"\"\n",
    "    image: numpy array, representing the grayscsale image\n",
    "    cx, cy: numpy arrays or lists, centers of the detected blobs\n",
    "    rad: numpy array or list, radius of the detected blobs\n",
    "    \"\"\"\n",
    "\n",
    "    fig, ax = plt.subplots()\n",
    "    ax.set_aspect('equal')\n",
    "    ax.imshow(image, cmap='gray')\n",
    "    for x, y, r in zip(cx, cy, rad):\n",
    "        circ = Circle((x, y), r, color=color, fill=False)\n",
    "        ax.add_patch(circ)\n",
    "\n",
    "    plt.title('%i circles' % len(cx))\n",
    "    plt.show()"
   ]
  },
  {
   "cell_type": "code",
   "execution_count": null,
   "metadata": {},
   "outputs": [],
   "source": [
    "def sup_fnc(buffer):\n",
    "    buffer_length = buffer.shape[0]\n",
    "    center = int(buffer_length / 2)\n",
    "    return buffer[center] if buffer[center] == buffer.max() else 0"
   ]
  },
  {
   "cell_type": "code",
   "execution_count": null,
   "metadata": {},
   "outputs": [],
   "source": [
    "def down_func(img, Scale, Level, k):\n",
    "\n",
    "    height = img.shape[0]     \n",
    "    width= img.shape[1]\n",
    "    \n",
    "    ret = np.empty((height, width, Level))\n",
    "    sampled_image = img\n",
    "    sigma = Scale\n",
    "    for i in range(Level):\n",
    "        X = gaussian_laplace(sampled_image, sigma = sigma) ** 2 \n",
    "        ret[:, :, i] = transform.resize(X, (height, width), order = 2)\n",
    "        sampled_image = transform.rescale(sampled_image, 1.0 / k, order = 2)\n",
    "#     print(ret)\n",
    "    return ret"
   ]
  },
  {
   "cell_type": "code",
   "execution_count": null,
   "metadata": {},
   "outputs": [],
   "source": [
    "def Print_down():\n",
    "    ret = down_func(img, Scale,Level,k)\n",
    "    ret = scipy.ndimage.filters.generic_filter(ret, sup_fnc, size = (3, 3, 3))\n",
    "    ret = ret/np.max(ret)\n",
    "    #cx, cy, rad = get_blobs(ret, 0.075)\n",
    "    #show_all_circles(img, cx, cy, rad, color='r')\n",
    "        \n",
    "    cx, cy, count = np.where(ret > 0.15)\n",
    "    v=(cx.shape[0])\n",
    "    rad = np.empty(v)\n",
    "    count_len=len(count)\n",
    "    for i in range(count_len):\n",
    "        sigma = Scale * k ** count[i]\n",
    "        rad[i] = np.sqrt(2) * sigma\n",
    "    show_all_circles(img, cy, cx, rad, color='r')\n",
    "    return"
   ]
  },
  {
   "cell_type": "code",
   "execution_count": null,
   "metadata": {},
   "outputs": [],
   "source": [
    "IMG_DIR = 'blobs-data'\n",
    "for filename in os.listdir(IMG_DIR):\n",
    "    img = mpimg.imread(filename)\n",
    "    img = rgb2gray(img)\n",
    "    plt.imshow(img, cmap='gray')\n",
    "    plt.show()\n",
    "    start = time.time()\n",
    "    Print_down()\n",
    "    print(time.time()-start)"
   ]
  },
  {
   "cell_type": "code",
   "execution_count": null,
   "metadata": {},
   "outputs": [],
   "source": []
  },
  {
   "cell_type": "code",
   "execution_count": null,
   "metadata": {},
   "outputs": [],
   "source": []
  },
  {
   "cell_type": "code",
   "execution_count": null,
   "metadata": {},
   "outputs": [],
   "source": []
  },
  {
   "cell_type": "code",
   "execution_count": null,
   "metadata": {},
   "outputs": [],
   "source": []
  }
 ],
 "metadata": {
  "kernelspec": {
   "display_name": "Python 3",
   "language": "python",
   "name": "python3"
  },
  "language_info": {
   "codemirror_mode": {
    "name": "ipython",
    "version": 3
   },
   "file_extension": ".py",
   "mimetype": "text/x-python",
   "name": "python",
   "nbconvert_exporter": "python",
   "pygments_lexer": "ipython3",
   "version": "3.7.6"
  }
 },
 "nbformat": 4,
 "nbformat_minor": 4
}
